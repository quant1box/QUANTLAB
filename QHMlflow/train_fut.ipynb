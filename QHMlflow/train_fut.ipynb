{
 "cells": [
  {
   "cell_type": "code",
   "execution_count": 1,
   "metadata": {},
   "outputs": [
    {
     "name": "stdout",
     "output_type": "stream",
     "text": [
      "No module named 'wtpy'\n",
      "Error importing QUANTAXIS module: No module named 'QUANTAXIS'\n"
     ]
    }
   ],
   "source": [
    "import sys\n",
    "sys.path.append('..')\n",
    "\n",
    "import json\n",
    "import warnings\n",
    "import polars as pl\n",
    "from estimator import*\n",
    "from QHFactor.fn import *\n",
    "\n",
    "from features_selector import*\n",
    "from secuntial import Sequential\n",
    "\n",
    "\n",
    "from QHFactor.transformer import Load_X_y\n",
    "from datetime import datetime,timedelta\n",
    "from alphalens import tears,utils,performance\n",
    "from QHData.data_load import DataLoader,CodesLoader\n",
    "\n",
    "from sklearn.model_selection import train_test_split\n",
    "\n",
    "warnings.filterwarnings('ignore')"
   ]
  },
  {
   "cell_type": "code",
   "execution_count": 2,
   "metadata": {},
   "outputs": [
    {
     "name": "stderr",
     "output_type": "stream",
     "text": [
      "[2025-03-12 11:12:10 - INFO] Model name: STKIDX_LGBMREG_60M\n",
      "[2025-03-12 11:12:10 - INFO] Training started at 2025-03-12 11:12:10\n",
      "[2025-03-12 11:12:10 - INFO] # 1. Get dataset.\n",
      "[2025-03-12 11:12:10 - INFO] Data loading...\n",
      "[2025-03-12 11:16:31 - INFO] Codes: ['RBL8', 'SAL8', 'ML8', 'FGL8', 'AGL8', 'RML8', 'VL8', 'PL8', 'TAL8', 'MAL8']\n",
      "[2025-03-12 11:16:31 - INFO] Dataset from 2024-08-24 to 2025-03-12\n",
      "[2025-03-12 11:16:31 - INFO] Frequency: 60min\n",
      "[2025-03-12 11:16:31 - INFO] Dataset shape: (7972, 6)\n",
      "[2025-03-12 11:16:31 - INFO] Data loading completed\n"
     ]
    }
   ],
   "source": [
    "# 1.Get dataset\n",
    "seq = Sequential(name='STKIDX_LGBMREG_60M')\n",
    "\n",
    "days = 200\n",
    "start_date = (datetime.now() - timedelta(days=days)).strftime('%Y-%m-%d')\n",
    "end_date = datetime.now().strftime('%Y-%m-%d')\n",
    "\n",
    "dataset, returns = seq.data_loader(start_date, end_date, '60min')\n",
    "# data_loader = DataLoader(start_date,end_date,'d')\n",
    "\n",
    "# dataset,returns = data_loader.load_future()\n",
    "\n",
    "# 重新构建标签\n",
    "# 2.calculate factors\n",
    "# X = dataset.to_pandas().set_index(['datetime','code']).sort_index()\n",
    "# y = returns.to_pandas().set_index(['datetime','code']).sort_index()\n",
    "# factors = seq.calculate_factors(X, window=60).fillna(0)\n",
    "\n",
    "# 3.select features\n",
    "# classifi_labels = pd.qcut(x\n",
    "# lable['returns'], q=10, labels=list(range(0, 10))).astype(int)\n",
    "\n",
    "# # rank lable\n",
    "# rank_lables = lable.groupby(level=0).rank('dense',ascending=False).astype(int)\n",
    "\n",
    "# X, y = Load_X_y().transform(factors,lable.iloc[:,0])\n",
    "# X_train, X_test, y_train, y_test = train_test_split(factors, y.iloc[:,0], test_size=0.1, shuffle=False)\n",
    "# \n",
    "# features = seq.select_features(LGBMFeatureSelector(model_type='reg', n=20), X_train, y_train)\n",
    "# features = seq.select_features(RFEFeaturesSelector(model_type='reg',n=20), X_train, y_train)"
   ]
  },
  {
   "cell_type": "code",
   "execution_count": 10,
   "metadata": {},
   "outputs": [
    {
     "data": {
      "text/plain": [
       "Index(['AGL8', 'FGL8', 'MAL8', 'ML8', 'PL8', 'RBL8', 'RML8', 'SAL8', 'TAL8',\n",
       "       'VL8'],\n",
       "      dtype='object', name='code')"
      ]
     },
     "execution_count": 10,
     "metadata": {},
     "output_type": "execute_result"
    }
   ],
   "source": [
    "# dataset.loc[(slice(None),'RBL8'),]\n",
    "dataset.index.levels[1]"
   ]
  },
  {
   "cell_type": "code",
   "execution_count": 10,
   "metadata": {},
   "outputs": [],
   "source": [
    "df = DataLoader(start_date=start_date,end_date=end_date,freq='60min').load_future(codes=['RBL8','AGL8'])"
   ]
  },
  {
   "cell_type": "code",
   "execution_count": null,
   "metadata": {},
   "outputs": [],
   "source": [
    "# 4.Train model\n",
    "model = seq.train_model(LGBMRollingRegressor,features, y_train)"
   ]
  },
  {
   "cell_type": "code",
   "execution_count": null,
   "metadata": {},
   "outputs": [],
   "source": [
    "# 6.track model\n",
    "config_data = {\n",
    "    'codes': features.index.levels[1].unique().tolist(),\n",
    "    'features': features.columns.tolist()\n",
    "}\n",
    "\n",
    "local_uri = 'http://192.168.215.3:5115'\n",
    "remote_uri = 'http://192.168.31.220:5115'\n",
    "\n",
    "seq.track_model(\n",
    "    track_ui=local_uri,\n",
    "    exp_name=seq.name,\n",
    "    model=model,\n",
    "    params=model.get_params(),\n",
    "    # metrics=perf_all,\n",
    "    config=config_data,\n",
    "    tags={'author':'chiang','version':'1.0'},\n",
    "    # image=f'{seq.name}_performence.png'\n",
    ")\n"
   ]
  },
  {
   "cell_type": "code",
   "execution_count": null,
   "metadata": {},
   "outputs": [],
   "source": [
    "import numpy as np\n",
    "from QHMlflow.mlflowtracker import load_model_and_config\n",
    "\n",
    "# 假设您已经有了以下数据\n",
    "# 1. 预测结果\n",
    "# model,config = load_model_and_config(remote_tracking_uri='',run_id='')\n",
    "\n",
    "predictions = pd.Series(index=X.index, data=model.predict(X.loc[:, features.columns]))\n",
    "\n",
    "# 2. 价格数据\n",
    "# 假设 dataset 是一个包含价格数据的 DataFrame，包含 'close' 列\n",
    "prices = dataset.loc[X.index,'close'].unstack()  # 将价格数据转换为适合 AlphaLens 的格式\n",
    "\n",
    "# 3. 计算因子和前向收益\n",
    "factor_data = utils.get_clean_factor_and_forward_returns(\n",
    "    quantiles=10,\n",
    "    factor=predictions,\n",
    "    prices=dataset.loc[predictions.index,'close'].unstack(),\n",
    "    periods=(1, 5,10)  # 1天、5天和10天的前向收益\n",
    ")\n",
    "\n",
    "# 4. 分析因子表现\n",
    "# 计算因子表现\n",
    "# tears = tears.create_full_tear_sheet(factor_data)\n",
    "factor_data.loc[factor_data.factor_quantile==10,'1D'].groupby(level=0).mean().cumsum().plot()"
   ]
  },
  {
   "cell_type": "code",
   "execution_count": null,
   "metadata": {},
   "outputs": [],
   "source": [
    "# 7、刪除試驗環境\n",
    "import mlflow\n",
    "# mlflow.delete_experiment(experiment_id='377574715235855307')\n",
    "mlflow.delete_run(run_id='')\n",
    "\n"
   ]
  },
  {
   "cell_type": "code",
   "execution_count": null,
   "metadata": {},
   "outputs": [],
   "source": [
    "import sys\n",
    "sys.path.append('..')\n",
    "from QHFactor.fn import *\n",
    "from QHData.data_load import DataLoader\n",
    "\n",
    "data_loader = DataLoader(start_date='2024-01-01',end_date='2025-01-02',freq='weekly')\n",
    "data_loader.load_future(codes=['IFL8','IHL8','ICL8','IML8'])"
   ]
  },
  {
   "cell_type": "code",
   "execution_count": null,
   "metadata": {},
   "outputs": [],
   "source": []
  }
 ],
 "metadata": {
  "kernelspec": {
   "display_name": "QUANTHUB",
   "language": "python",
   "name": "python3"
  },
  "language_info": {
   "codemirror_mode": {
    "name": "ipython",
    "version": 3
   },
   "file_extension": ".py",
   "mimetype": "text/x-python",
   "name": "python",
   "nbconvert_exporter": "python",
   "pygments_lexer": "ipython3",
   "version": "3.11.0"
  }
 },
 "nbformat": 4,
 "nbformat_minor": 2
}

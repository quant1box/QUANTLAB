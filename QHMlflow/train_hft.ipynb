{
 "cells": [
  {
   "cell_type": "code",
   "execution_count": 1,
   "metadata": {},
   "outputs": [
    {
     "name": "stdout",
     "output_type": "stream",
     "text": [
      "Error importing QUANTAXIS module: No module named 'QUANTAXIS'\n"
     ]
    },
    {
     "name": "stderr",
     "output_type": "stream",
     "text": [
      "/opt/homebrew/Caskroom/miniconda/base/envs/QUANTHUB/lib/python3.10/site-packages/pyfolio/pos.py:26: UserWarning: Module \"zipline.assets\" not found; mutltipliers will not be applied to position notionals.\n",
      "  warnings.warn(\n",
      "[2024-06-15 00:18:34 - INFO] Model name: HFT\n",
      "[2024-06-15 00:18:34 - INFO] Training started at 2024-06-15 00:18:34\n"
     ]
    },
    {
     "name": "stdout",
     "output_type": "stream",
     "text": [
      "dlopen(/opt/homebrew/Caskroom/miniconda/base/envs/QUANTHUB/lib/python3.10/site-packages/wtpy/wrapper/linux/libWtDtHelper.so, 0x0006): tried: '/opt/homebrew/Caskroom/miniconda/base/envs/QUANTHUB/lib/python3.10/site-packages/wtpy/wrapper/linux/libWtDtHelper.so' (not a mach-o file), '/System/Volumes/Preboot/Cryptexes/OS/opt/homebrew/Caskroom/miniconda/base/envs/QUANTHUB/lib/python3.10/site-packages/wtpy/wrapper/linux/libWtDtHelper.so' (no such file), '/opt/homebrew/Caskroom/miniconda/base/envs/QUANTHUB/lib/python3.10/site-packages/wtpy/wrapper/linux/libWtDtHelper.so' (not a mach-o file), '/opt/homebrew/Caskroom/miniconda/base/envs/quanthub/lib/python3.10/site-packages/wtpy/wrapper/linux/libWtDtHelper.so' (not a mach-o file), '/System/Volumes/Preboot/Cryptexes/OS/opt/homebrew/Caskroom/miniconda/base/envs/quanthub/lib/python3.10/site-packages/wtpy/wrapper/linux/libWtDtHelper.so' (no such file), '/opt/homebrew/Caskroom/miniconda/base/envs/quanthub/lib/python3.10/site-packages/wtpy/wrapper/linux/libWtDtHelper.so' (not a mach-o file)\n"
     ]
    }
   ],
   "source": [
    "import sys\n",
    "sys.path.append('..')\n",
    "\n",
    "import pickle\n",
    "from sklearn.metrics import (\n",
    "    mean_squared_error, accuracy_score, log_loss, r2_score)\n",
    "import pandas as pd\n",
    "import numpy as np\n",
    "from QHFactor.fn import *\n",
    "from QHFactor.factors import HFTFactors\n",
    "import warnings\n",
    "from QHFactor.fn import (\n",
    "    ts_winsorize,\n",
    "    ts_zscore,\n",
    "    delay,\n",
    "    delta\n",
    ")\n",
    "from QHMlflow.estimator import LGBMRollingRegressor\n",
    "from sklearn.model_selection import train_test_split\n",
    "import lightgbm as lgb\n",
    "from QHMlflow.secuntial import Sequential\n",
    "seq = Sequential(name='HFT')\n",
    "\n",
    "warnings.filterwarnings('ignore')"
   ]
  },
  {
   "cell_type": "code",
   "execution_count": null,
   "metadata": {},
   "outputs": [],
   "source": [
    "# 读取板底数据\n",
    "df = pd.read_parquet('../QHData/pp2409.parquet')\n",
    "\n",
    "last_price = df['price'].to_numpy()\n",
    "ask_price = df['ask_price_0'].to_numpy()\n",
    "bid_price = df['bid_price_0'].to_numpy()\n",
    "bid_qty = df['bid_qty_0'].to_numpy()\n",
    "ask_qty = df['bid_qty_0'].to_numpy()\n",
    "volume = df['volume'].to_numpy()\n",
    "turn_over = df['turn_over'].to_numpy()\n",
    "open_interest = df['open_interest'].to_numpy()\n",
    "diff_interest = df['diff_interest'].to_numpy()\n",
    "total_turnover = df['total_turnover'].to_numpy()\n",
    "total_volume = df['total_volume'].to_numpy()"
   ]
  },
  {
   "cell_type": "code",
   "execution_count": null,
   "metadata": {},
   "outputs": [],
   "source": [
    "# 因子计算\n",
    "window = 360\n",
    "\n",
    "factors = pd.DataFrame(data={\n",
    "    'price': last_price,\n",
    "    'skew': ts_skew(last_price, window),\n",
    "    'kurt': ts_kurt(last_price, window),\n",
    "    'rwr': HFTFactors.rwr(last_price, window),\n",
    "    'z_t': HFTFactors.z_t(last_price, ask_price, bid_price),\n",
    "    # 'slpoe': HFTFactors.slpoe(bid_price, ask_price, bid_qty, ask_qty),\n",
    "    'speculation': HFTFactors.speculation(volume, open_interest, window),\n",
    "    'diff_interest': HFTFactors.diff_interest_sum(diff_interest, window),\n",
    "    # 'voi': HFTFactors.voi(bid_price, ask_price, bid_qty, ask_qty, volume),\n",
    "    'volatilaty': ts_stddev(last_price, window),\n",
    "    \"avgPx\": HFTFactors.avg_price(total_turnover/5, total_volume, last_price),\n",
    "    'mbp': HFTFactors.mbp(turn_over/5, volume, bid_price, ask_price),\n",
    "    'positive_ratio': HFTFactors.positive_ratio(turn_over, last_price, ask_price, window),\n",
    "    'negtive_ratio': HFTFactors.negtive_ratio(turn_over, last_price, bid_price, window),\n",
    "}, index=df.index\n",
    ")\n",
    "\n",
    "factors['price'] = delay(ts_sum(delta(last_price,1),120),-120)"
   ]
  },
  {
   "cell_type": "code",
   "execution_count": null,
   "metadata": {},
   "outputs": [],
   "source": [
    "factors = factors.transform(lambda x: ts_winsorize(\n",
    "    x.to_numpy(), window)).dropna(how='any')\n",
    "\n",
    "X, y = factors.drop('price', axis=1).transform(\n",
    "    lambda x: ts_zscore(x.to_numpy(), window)), factors['price']\n",
    "\n",
    "print(X.corrwith(y))\n",
    "\n",
    "model = lgb.LGBMRegressor(importance_type='gain',\n",
    "                          n_estimators=1000, random_state=2024)\n",
    "model.fit(X, y)\n",
    "\n",
    "title = 'LightGBM Feature Importance (gain)'\n",
    "lgb.plot_importance(model,\n",
    "                    importance_type='gain',\n",
    "                    max_num_features=20,\n",
    "                    figsize=(8, 6),\n",
    "                    grid=False,\n",
    "                    title=title\n",
    "                    )\n",
    "\n",
    "# %%\n",
    "X_train, X_test, y_train, y_test = train_test_split(\n",
    "    X, y, test_size=0.1, shuffle=False)\n",
    "\n",
    "# model = LGBMRollingRegressor().optimizer('HFT08', X_train, y_train)\n",
    "model = seq.train_model(LGBMRollingRegressor,X_train,y_train)\n",
    "\n",
    "model.predict(X_test)\n",
    "y_pred = model.predict(X_train)\n",
    "print(f'{np.percentile(y_pred,5)} {np.percentile(y_pred,95)}')\n",
    "\n",
    "\n",
    "# -0.3247957456818994 0.23797592295645276 bu\n",
    "# -0.36696193028613927 0.3064388737879785 fu\n",
    "# -0.3349361096295464 0.2860071112663756 m\n",
    "# -0.3481025644484865 0.25500206765461264 rm\n",
    "# -0.35048536769769406 0.40468895580618897 v\n",
    "# -0.3283572190749224 0.39061204862299276 pp\n",
    "\n",
    "# 保存模型\n",
    "pickle.dump(model,open('HFT_LGB_PP.pkl','wb'))"
   ]
  }
 ],
 "metadata": {
  "kernelspec": {
   "display_name": "QUANTHUB",
   "language": "python",
   "name": "python3"
  },
  "language_info": {
   "codemirror_mode": {
    "name": "ipython",
    "version": 3
   },
   "file_extension": ".py",
   "mimetype": "text/x-python",
   "name": "python",
   "nbconvert_exporter": "python",
   "pygments_lexer": "ipython3",
   "version": "3.8.20"
  }
 },
 "nbformat": 4,
 "nbformat_minor": 2
}

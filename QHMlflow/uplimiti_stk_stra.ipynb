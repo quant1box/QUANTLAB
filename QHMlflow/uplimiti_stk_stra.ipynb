{
 "cells": [
  {
   "cell_type": "markdown",
   "metadata": {},
   "source": [
    "## 打板策略 + 期权敲敲乐"
   ]
  },
  {
   "cell_type": "code",
   "execution_count": 1,
   "metadata": {},
   "outputs": [
    {
     "name": "stdout",
     "output_type": "stream",
     "text": [
      "No module named 'wtpy'\n",
      "Error importing QUANTAXIS module: No module named 'QUANTAXIS'\n"
     ]
    }
   ],
   "source": [
    "import sys\n",
    "sys.path.append('..')\n",
    "\n",
    "import warnings\n",
    "\n",
    "import numpy as np\n",
    "import pandas as pd \n",
    "import polars as pl\n",
    "import quantstats as qs\n",
    "from QHData.query import Query\n",
    "from secuntial import Sequential\n",
    "from QHFactor.transformer import Load_X_y\n",
    "\n",
    "from estimator import LGBMRollingClassifier\n",
    "from features_selector import LGBMFeatureSelector\n",
    "from QHData.data_load import DataLoader,CodesLoader\n",
    "from sklearn.model_selection import train_test_split\n",
    "\n",
    "qs.extend_pandas()\n",
    "warnings.filterwarnings('ignore')"
   ]
  },
  {
   "cell_type": "code",
   "execution_count": 5,
   "metadata": {},
   "outputs": [
    {
     "name": "stderr",
     "output_type": "stream",
     "text": [
      "[2025-03-12 22:55:18 - INFO] Model name: STK_UPLIMIT300_1W\n",
      "[2025-03-12 22:55:18 - INFO] Training started at 2025-03-12 22:55:18\n",
      "[2025-03-12 22:55:47 - INFO] # 2. calculate factors\n",
      "[2025-03-12 22:55:47 - INFO] Factor calculation and processing started\n",
      "Processing stocks: 100%|██████████| 300/300 [00:28<00:00, 10.46it/s]\n",
      "[2025-03-12 22:56:42 - INFO] Factors calculated.\n",
      "[2025-03-12 22:56:42 - INFO] Factors shape: (77099, 171)\n",
      "[2025-03-12 22:56:42 - INFO] Number of factors: 171\n",
      "[2025-03-12 22:56:42 - INFO] Factor types: {'alpha_001': dtype('float32'), 'alpha_002': dtype('float32'), 'alpha_003': dtype('float32'), 'alpha_004': dtype('float32'), 'alpha_005': dtype('float32'), 'alpha_006': dtype('float32'), 'alpha_007': dtype('float32'), 'alpha_008': dtype('float32'), 'alpha_009': dtype('float32'), 'alpha_010': dtype('float32'), 'alpha_011': dtype('float32'), 'alpha_012': dtype('float32'), 'alpha_013': dtype('float32'), 'alpha_014': dtype('float32'), 'alpha_015': dtype('float32'), 'alpha_016': dtype('float32'), 'alpha_017': dtype('float32'), 'alpha_018': dtype('float32'), 'alpha_019': dtype('float32'), 'alpha_020': dtype('float32'), 'alpha_022': dtype('float32'), 'alpha_023': dtype('float32'), 'alpha_024': dtype('float32'), 'alpha_025': dtype('float32'), 'alpha_026': dtype('float32'), 'alpha_027': dtype('float32'), 'alpha_028': dtype('float32'), 'alpha_029': dtype('float32'), 'alpha_031': dtype('float32'), 'alpha_032': dtype('float32'), 'alpha_033': dtype('float32'), 'alpha_034': dtype('float32'), 'alpha_036': dtype('float32'), 'alpha_037': dtype('float32'), 'alpha_038': dtype('float32'), 'alpha_039': dtype('float32'), 'alpha_040': dtype('float32'), 'alpha_041': dtype('float32'), 'alpha_042': dtype('float32'), 'alpha_043': dtype('float32'), 'alpha_044': dtype('float32'), 'alpha_045': dtype('float32'), 'alpha_046': dtype('float32'), 'alpha_047': dtype('float32'), 'alpha_048': dtype('float32'), 'alpha_049': dtype('float32'), 'alpha_052': dtype('float32'), 'alpha_053': dtype('float32'), 'alpha_054': dtype('float32'), 'alpha_057': dtype('float32'), 'alpha_058': dtype('float32'), 'alpha_059': dtype('float32'), 'alpha_060': dtype('float32'), 'alpha_061': dtype('float32'), 'alpha_062': dtype('float32'), 'alpha_063': dtype('float32'), 'alpha_064': dtype('float32'), 'alpha_065': dtype('float32'), 'alpha_066': dtype('float32'), 'alpha_067': dtype('float32'), 'alpha_068': dtype('float32'), 'alpha_069': dtype('float32'), 'alpha_070': dtype('float32'), 'alpha_071': dtype('float32'), 'alpha_072': dtype('float32'), 'alpha_073': dtype('float32'), 'alpha_074': dtype('float32'), 'alpha_076': dtype('float32'), 'alpha_077': dtype('float32'), 'alpha_078': dtype('float32'), 'alpha_079': dtype('float32'), 'alpha_080': dtype('float32'), 'alpha_081': dtype('float32'), 'alpha_082': dtype('float32'), 'alpha_083': dtype('float32'), 'alpha_084': dtype('float32'), 'alpha_085': dtype('float32'), 'alpha_086': dtype('float32'), 'alpha_087': dtype('float32'), 'alpha_088': dtype('float32'), 'alpha_089': dtype('float32'), 'alpha_090': dtype('float32'), 'alpha_091': dtype('float32'), 'alpha_093': dtype('float32'), 'alpha_094': dtype('float32'), 'alpha_095': dtype('float32'), 'alpha_096': dtype('float32'), 'alpha_097': dtype('float32'), 'alpha_098': dtype('float32'), 'alpha_099': dtype('float32'), 'alpha_100': dtype('float32'), 'alpha_101': dtype('float32'), 'alpha_102': dtype('float32'), 'alpha_103': dtype('float32'), 'alpha_104': dtype('float32'), 'alpha_105': dtype('float32'), 'alpha_106': dtype('float32'), 'alpha_107': dtype('float32'), 'alpha_108': dtype('float32'), 'alpha_109': dtype('float32'), 'alpha_110': dtype('float32'), 'alpha_111': dtype('float32'), 'alpha_112': dtype('float32'), 'alpha_113': dtype('float32'), 'alpha_114': dtype('float32'), 'alpha_115': dtype('float32'), 'alpha_118': dtype('float32'), 'alpha_119': dtype('float32'), 'alpha_120': dtype('float32'), 'alpha_121': dtype('float32'), 'alpha_122': dtype('float32'), 'alpha_123': dtype('float32'), 'alpha_124': dtype('float32'), 'alpha_125': dtype('float32'), 'alpha_126': dtype('float32'), 'alpha_127': dtype('float32'), 'alpha_128': dtype('float32'), 'alpha_129': dtype('float32'), 'alpha_130': dtype('float32'), 'alpha_131': dtype('float32'), 'alpha_132': dtype('float32'), 'alpha_133': dtype('float32'), 'alpha_134': dtype('float32'), 'alpha_135': dtype('float32'), 'alpha_136': dtype('float32'), 'alpha_138': dtype('float32'), 'alpha_139': dtype('float32'), 'alpha_140': dtype('float32'), 'alpha_141': dtype('float32'), 'alpha_142': dtype('float32'), 'alpha_145': dtype('float32'), 'alpha_146': dtype('float32'), 'alpha_148': dtype('float32'), 'alpha_150': dtype('float32'), 'alpha_151': dtype('float32'), 'alpha_152': dtype('float32'), 'alpha_153': dtype('float32'), 'alpha_154': dtype('float32'), 'alpha_155': dtype('float32'), 'alpha_156': dtype('float32'), 'alpha_157': dtype('float32'), 'alpha_158': dtype('float32'), 'alpha_159': dtype('float32'), 'alpha_160': dtype('float32'), 'alpha_161': dtype('float32'), 'alpha_162': dtype('float32'), 'alpha_163': dtype('float32'), 'alpha_164': dtype('float32'), 'alpha_165': dtype('float32'), 'alpha_167': dtype('float32'), 'alpha_168': dtype('float32'), 'alpha_169': dtype('float32'), 'alpha_170': dtype('float32'), 'alpha_171': dtype('float32'), 'alpha_172': dtype('float32'), 'alpha_173': dtype('float32'), 'alpha_174': dtype('float32'), 'alpha_175': dtype('float32'), 'alpha_176': dtype('float32'), 'alpha_177': dtype('float32'), 'alpha_178': dtype('float32'), 'alpha_179': dtype('float32'), 'alpha_180': dtype('float32'), 'alpha_183': dtype('float32'), 'alpha_184': dtype('float32'), 'alpha_185': dtype('float32'), 'alpha_186': dtype('float32'), 'alpha_187': dtype('float32'), 'alpha_188': dtype('float32'), 'alpha_189': dtype('float32'), 'alpha_191': dtype('float32')}\n"
     ]
    }
   ],
   "source": [
    "# 1 查询数据\n",
    "\n",
    "seq = Sequential(name='STK_UPLIMIT500_1W')  # 初始化交易框架\n",
    "\n",
    "q = Query()\n",
    "# --------------------------------------------------------------------------------------\n",
    "code_loader = CodesLoader()\n",
    "code_hs300 = code_loader.load_stk_codes('hs300.json')       # 沪深300\n",
    "code_zz500 = code_loader.load_stk_codes('zz500.json')       # 中证500成分股\n",
    "# code_zz1000 = code_loader.load_stk_codes('zz1000.json')     # 中证1000成分股 \n",
    "\n",
    "df_stocks = q.fetch_stock_list()    # 获取全市场股票信息\n",
    "filter_codes = df_stocks[~df_stocks.name.str.contains('ST')].code.tolist()   # 过滤掉*ST/ST的股票\n",
    "\n",
    "# --------------------------------------------------------------------------------------\n",
    "\n",
    "data_loader = DataLoader(start_date='2020-01-01',end_date='2025-03-09',freq='weekly')\n",
    "stk_data,returns = data_loader.load_stock(codes=code_zz500,return_X_y=True)     # 股票数据   \n",
    "bench_market_data = data_loader.load_bench_market('000300')                     # 市场基准\n",
    "\n",
    "# 2、计算因子\n",
    "factors = seq.calculate_factors(stk_data, window=24)    # 计算因子\n",
    "\n",
    "# 构建标签，每天前3%的票\n",
    "labels = returns.groupby(level=0,group_keys=False).apply(lambda x:(x > np.percentile(x, 97)).astype(int))"
   ]
  },
  {
   "cell_type": "code",
   "execution_count": null,
   "metadata": {},
   "outputs": [],
   "source": [
    "# 3 特征选择\n",
    "\n",
    "X,y = Load_X_y().transform(factors.fillna(0),labels) \n",
    "X_train, X_test, y_train, y_test = train_test_split(X, y, test_size=0.1, shuffle=False)\n",
    "\n",
    "features = seq.select_features(LGBMFeatureSelector(model_type='clf',n=20), X_train,y_train)"
   ]
  },
  {
   "cell_type": "code",
   "execution_count": null,
   "metadata": {},
   "outputs": [],
   "source": [
    "## 4 模型训练\n",
    "\n",
    "# 构建标签正样本特征\n",
    "# labels = mm_returns.groupby(level=1, group_keys=False).apply(lambda x: ((x.shift(1) < 0.9) & (x > 0.95))).astype(int)\n",
    "\n",
    "# 获取正样本索引\n",
    "uplimit_index = labels[labels.values > 0].index\n",
    "\n",
    "# 重采样目标函数（样本均衡）\n",
    "uplimit_returns = labels[returns.index.isin(uplimit_index)]\n",
    "# 随机抽取负样本，确保样本均衡\n",
    "samples_returns = labels[~returns.index.isin(uplimit_index)].sample(n=len(uplimit_returns), random_state=42).sort_index()\n",
    "\n",
    "# 合并新的目标函数\n",
    "targets = pd.concat([uplimit_returns, samples_returns], axis=0).sort_index()\n",
    "\n",
    "# 构建新的x,y\n",
    "train_x, train_y = Load_X_y().transform(features, targets)\n",
    "\n",
    "# 训练模型\n",
    "model = seq.train_model(LGBMRollingClassifier, train_x, train_y)\n"
   ]
  },
  {
   "cell_type": "code",
   "execution_count": null,
   "metadata": {},
   "outputs": [],
   "source": [
    "# 6、模型跟踪\n",
    "config_data = {\n",
    "    'features': features.columns.tolist()\n",
    "}\n",
    "\n",
    "# local_uri = 'http://192.168.215.4:5115'\n",
    "remote_uri = 'http://192.168.31.220:5115'\n",
    "\n",
    "run_id = seq.track_model(\n",
    "    track_ui=remote_uri,\n",
    "    exp_name=seq.name,\n",
    "    model=model,\n",
    "    params=model.get_params(),\n",
    "    config=config_data,\n",
    "    # metrics=performence,\n",
    "    tags={'model':{seq.name}},\n",
    "    # image=f'{seq.name}_performence.png',\n",
    ")\n",
    "\n",
    "# 跟新run_id到本地\n",
    "seq.update_run_ids(model_name=seq.name,run_id=run_id)"
   ]
  },
  {
   "cell_type": "code",
   "execution_count": 6,
   "metadata": {},
   "outputs": [
    {
     "data": {
      "application/vnd.jupyter.widget-view+json": {
       "model_id": "48a57a7fccd04695aa3ee45bcfaaeadf",
       "version_major": 2,
       "version_minor": 0
      },
      "text/plain": [
       "Downloading artifacts:   0%|          | 0/5 [00:00<?, ?it/s]"
      ]
     },
     "metadata": {},
     "output_type": "display_data"
    },
    {
     "data": {
      "application/vnd.jupyter.widget-view+json": {
       "model_id": "3268be81e1d04fdfbc125f3f73375e7a",
       "version_major": 2,
       "version_minor": 0
      },
      "text/plain": [
       "Downloading artifacts:   0%|          | 0/1 [00:00<?, ?it/s]"
      ]
     },
     "metadata": {},
     "output_type": "display_data"
    },
    {
     "name": "stdout",
     "output_type": "stream",
     "text": [
      "        date    code       1\n",
      "0 2025-03-09  688396  0.5519\n",
      "1 2025-03-09  600845  0.5479\n",
      "2 2025-03-09  600760  0.5461\n",
      "3 2025-03-09  000876  0.5459\n",
      "4 2025-03-09  601360  0.5457\n"
     ]
    }
   ],
   "source": [
    "\n",
    "# 6.加载模型\n",
    "\n",
    "# 获取模型\n",
    "from QHMlflow.mlflowtracker import load_model_and_config\n",
    "\n",
    "remote_uri = 'http://192.168.31.220:5115'\n",
    "\n",
    "# 加載模型和配置文件\n",
    "run_ids = seq.load_run_ids()\n",
    "model,config_file = load_model_and_config(remote_tracking_uri=remote_uri,run_id=run_ids[seq.name]) \n",
    "\n",
    "predict_data = factors.loc[['2025-03-09'],config_file['features']] # 待预测数据\n",
    "\n",
    "# 预测结果\n",
    "predict_result = pd.DataFrame(index=predict_data.index,data=np.round(model.predict_proba(predict_data),4),columns=[0,1])\n",
    "\n",
    "#选择股票\n",
    "selected_codes = predict_result.loc[(predict_result[1]>0.5),1].groupby(level=0,group_keys=False).apply(lambda x:x.sort_values(ascending=False).head(5))\n",
    "print(selected_codes.reset_index())\n",
    "\n",
    "selected_codes.to_csv(f'positions/{seq.name}.csv')\n",
    "\n"
   ]
  },
  {
   "cell_type": "code",
   "execution_count": null,
   "metadata": {},
   "outputs": [],
   "source": [
    "pred = pd.DataFrame(index=factors.index,data=model.predict_proba(factors[config_file['features']]),columns=[0,1])\n",
    "\n",
    "sy = Load_X_y().transform(returns,pred.loc[(pred[1] > 0.5),1].groupby(level=0,group_keys=False).apply(lambda x:x.sort_values(ascending=False).head(10)))[0]\n",
    "# df = sy.apply(lambda x:-0.04 if x < -0.04 else x).groupby(level=0).mean().cumsum().plot()\n",
    "pf_returns = sy.apply(lambda x: -0.04 if x < -0.04 else x).groupby(level=0).mean()\n",
    "\n",
    "# 使用 quantstats 进行分析\n",
    "bench_market_returns = bench_market_data.close.pct_change().droplevel(1).dropna()\n",
    "qs.reports.full(returns=pf_returns,benchmark=bench_market_returns,rf=0.02,periods_per_year=52)\n",
    "qs.reports.html(returns=pf_returns,benchmark=bench_market_returns,rf=0.02,periods_per_year=52)\n",
    " "
   ]
  },
  {
   "cell_type": "code",
   "execution_count": null,
   "metadata": {},
   "outputs": [],
   "source": [
    "import duckdb\n",
    "\n",
    "# 设置union_by_name=True来处理schema不匹配的问题 \n",
    "duckdb.sql(\"\"\"\n",
    "    select *from read_csv_auto('positions/*_1W.csv', union_by_name=true)\n",
    "\"\"\").show()"
   ]
  }
 ],
 "metadata": {
  "kernelspec": {
   "display_name": "QUANTHUB",
   "language": "python",
   "name": "python3"
  },
  "language_info": {
   "codemirror_mode": {
    "name": "ipython",
    "version": 3
   },
   "file_extension": ".py",
   "mimetype": "text/x-python",
   "name": "python",
   "nbconvert_exporter": "python",
   "pygments_lexer": "ipython3",
   "version": "3.11.0"
  }
 },
 "nbformat": 4,
 "nbformat_minor": 2
}

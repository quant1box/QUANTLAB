{
 "cells": [
  {
   "cell_type": "code",
   "execution_count": 31,
   "metadata": {},
   "outputs": [],
   "source": [
    "import sys\n",
    "sys.path.append('..')\n",
    "\n",
    "import akshare as ak\n",
    "import duckdb\n",
    "import numpy as np\n",
    "import pandas as pd \n",
    "\n",
    "from QHData.query import query\n",
    "from QHData.data_load import DataLoader,CodesLoader\n",
    "\n",
    "import warnings\n",
    "\n",
    "warnings.filterwarnings('ignore')"
   ]
  },
  {
   "cell_type": "code",
   "execution_count": 186,
   "metadata": {},
   "outputs": [
    {
     "name": "stdout",
     "output_type": "stream",
     "text": [
      "Error loading stock data: Executor error during find command :: caused by :: Sort operation used more than the maximum 33554432 bytes of RAM. Add an index, or specify a smaller limit., full error: {'ok': 0.0, 'errmsg': 'Executor error during find command :: caused by :: Sort operation used more than the maximum 33554432 bytes of RAM. Add an index, or specify a smaller limit.', 'code': 96, 'codeName': 'OperationFailed'}\n"
     ]
    }
   ],
   "source": [
    "q = query()\n",
    "\n",
    "df_stocks = q.fetch_stock_list()    # 获取全市场股票信息\n",
    "filter_codes = df_stocks[-df_stocks.name.str.startswith(('*',\"ST\"))]                    # 过滤掉*ST/ST的股票\n",
    "codes_20cm = filter_codes[filter_codes.code.str.match(r'300|301|688|689')].code.tolist()      # 涨停板为20cm的股票\n",
    "# --------------------------------------------------------------------------------------\n",
    "\n",
    "data_loader = DataLoader(start_date='2024-01-01',end_date='2024-12-19',freq='daily')\n",
    "stk_data = data_loader.load_stock(codes=filter_codes.code.tolist())"
   ]
  },
  {
   "cell_type": "code",
   "execution_count": 193,
   "metadata": {},
   "outputs": [],
   "source": [
    "stock_sh_a_spot_em_df = ak.stock_sh_a_spot_em()     # 东方财富网-沪 A 股-实时行情数据\n",
    "stock_sz_a_spot_em_df = ak.stock_sz_a_spot_em()     # 东方财富网-深 A 股-实时行情数据\n",
    "\n",
    "# 合并数据\n",
    "df = pd.concat([stock_sh_a_spot_em_df,stock_sz_a_spot_em_df],axis=0)\n",
    "df = df[-df['名称'].str.startswith((\"*\",\"ST\"))]     # 过滤掉*ST/ST的股票\n",
    "df = df[-df['代码'].str.match(r'300|301|688|689')]  # 过滤掉创业板、科创板\n",
    "\n",
    "# 过滤掉价格大于10和流通市值大于70的股票\n",
    "filter_codes = df[(df['最新价'] < 10) & (df['流通市值']/100000000 < 70)]['代码'].tolist()"
   ]
  },
  {
   "cell_type": "code",
   "execution_count": 194,
   "metadata": {},
   "outputs": [],
   "source": [
    "data_loader = DataLoader(start_date='2023-12-17',end_date='2024-12-23',freq='daily')\n",
    "stk_data = data_loader.load_stock(codes=filter_codes)\n",
    "stk_data = stk_data.groupby(level=1).filter(lambda x:len(x) < 252)"
   ]
  },
  {
   "cell_type": "code",
   "execution_count": 195,
   "metadata": {},
   "outputs": [],
   "source": [
    "# 股价盘整计算\n",
    "stk_data = stk_data.groupby(level=1).filter(lambda x:x.high.max()/x.low.min() <=2)  \n",
    "pz = stk_data.groupby(level=1).apply(lambda x:x.close[-1]/(x.high.max() - x.low.min()))\n",
    "pz_df = pd.DataFrame(data=pz.values,index=pz.index,columns=['盘整'])\n",
    "pz_df.index.name = '代码'\n",
    "\n",
    "# 成交量计算\n",
    "vol_ratio = stk_data.groupby(level=1).apply(lambda x:x.volume[-5:].mean()/x.volume[-10:].mean())\n",
    "vol_ratio_df = pd.DataFrame(data=vol_ratio.values,index=vol_ratio.index,columns=['均量比'])\n",
    "vol_ratio_df.index.name = '代码'"
   ]
  },
  {
   "cell_type": "code",
   "execution_count": 196,
   "metadata": {},
   "outputs": [],
   "source": [
    "# 机构持仓占比\n",
    "\n",
    "stock_institute_hold_df = ak.stock_institute_hold(symbol=\"20243\")\n",
    "\n",
    "hold_ratio_dict = {x: stock_institute_hold_df.loc[stock_institute_hold_df['证券代码'] == x, '占流通股比例'].values[0] if x in stock_institute_hold_df['证券代码'].tolist() else 0 for x in stk_data.index.get_level_values(1).unique().to_list()}\n",
    "hold_ratio_df = pd.DataFrame({'代码':hold_ratio_dict.keys(),'占流通股比例':hold_ratio_dict.values()})\n",
    "\n",
    "scaled_hold_ratio = 1 / hold_ratio_df[hold_ratio_df['占流通股比例'] != 0]['占流通股比例']\n",
    "scaled_hold_ratio = 8 * (scaled_hold_ratio - scaled_hold_ratio.min()) / (scaled_hold_ratio.max() - scaled_hold_ratio.min()) + 1\n",
    "hold_ratio_df.loc[hold_ratio_df['占流通股比例'] != 0, '占流通股比例'] = scaled_hold_ratio\n",
    "hold_ratio_df[hold_ratio_df['占流通股比例'] != 0]\n",
    "hold_ratio_df.loc[(hold_ratio_df['占流通股比例']==0),\"占流通股比例\"] = 10\n",
    "hold_ratio_df = hold_ratio_df.transform(lambda x:round(x,2))\n",
    "hold_ratio_df.set_index('代码',inplace=True)\n"
   ]
  },
  {
   "cell_type": "code",
   "execution_count": 197,
   "metadata": {},
   "outputs": [],
   "source": [
    "\n",
    "from sklearn.preprocessing import MinMaxScaler\n",
    "\n",
    "combined_df = pd.concat([pz_df,vol_ratio_df,hold_ratio_df],axis=1)\n",
    "\n",
    "# 创建 MinMaxScaler 实例\n",
    "scaler = MinMaxScaler(feature_range=(1, 10))\n",
    "\n",
    "# 对整个 DataFrame 进行缩放\n",
    "scaled_data = scaler.fit_transform(combined_df)\n",
    "\n",
    "# 将缩放后的数据转换回 DataFrame\n",
    "scaled_df = pd.DataFrame(scaled_data, columns=combined_df.columns, index=combined_df.index)\n",
    "scaled_df['综合得分'] = scaled_df.sum(axis=1)\n",
    "scaled_df = scaled_df.sort_values('综合得分',ascending=False).apply(lambda x:round(x,2)).reset_index()\n"
   ]
  },
  {
   "cell_type": "code",
   "execution_count": 198,
   "metadata": {},
   "outputs": [
    {
     "data": {
      "text/plain": [
       "┌─────────┬────────┬────────┬──────────────┬──────────┐\n",
       "│  代码   │  盘整  │ 均量比 │ 占流通股比例 │ 综合得分 │\n",
       "│ varchar │ double │ double │    double    │  double  │\n",
       "├─────────┼────────┼────────┼──────────────┼──────────┤\n",
       "│ 600681  │   10.0 │   4.11 │         10.0 │    24.11 │\n",
       "│ 600973  │    3.7 │   10.0 │         10.0 │     23.7 │\n",
       "│ 000905  │   7.72 │   5.64 │         10.0 │    23.36 │\n",
       "│ 600354  │   4.32 │   8.23 │         10.0 │    22.55 │\n",
       "│ 000919  │   3.62 │   8.41 │         10.0 │    22.04 │\n",
       "│ 000570  │   3.68 │   8.23 │         10.0 │    21.91 │\n",
       "│ 601008  │   7.11 │   4.68 │         10.0 │    21.79 │\n",
       "│ 002560  │   4.74 │   6.77 │         10.0 │    21.51 │\n",
       "│ 002772  │   3.42 │   7.95 │         10.0 │    21.37 │\n",
       "│ 600359  │   6.08 │   5.17 │         10.0 │    21.24 │\n",
       "│   ·     │     ·  │     ·  │           ·  │       ·  │\n",
       "│   ·     │     ·  │     ·  │           ·  │       ·  │\n",
       "│   ·     │     ·  │     ·  │           ·  │       ·  │\n",
       "│ 600419  │   3.33 │   2.72 │         1.16 │     7.21 │\n",
       "│ 603018  │   2.85 │   3.06 │         1.05 │     6.96 │\n",
       "│ 000906  │   2.54 │   3.17 │         1.17 │     6.88 │\n",
       "│ 002370  │   2.28 │   2.43 │         2.12 │     6.83 │\n",
       "│ 002609  │   1.92 │   3.05 │         1.78 │     6.75 │\n",
       "│ 601083  │   2.33 │    3.2 │         1.03 │     6.57 │\n",
       "│ 601022  │   1.21 │   2.67 │         2.54 │     6.42 │\n",
       "│ 002398  │   2.93 │   1.58 │         1.81 │     6.32 │\n",
       "│ 001322  │   1.33 │   3.81 │          1.0 │     6.15 │\n",
       "│ 600961  │   1.39 │   2.62 │         1.16 │     5.16 │\n",
       "├─────────┴────────┴────────┴──────────────┴──────────┤\n",
       "│ 353 rows (20 shown)                       5 columns │\n",
       "└─────────────────────────────────────────────────────┘"
      ]
     },
     "execution_count": 198,
     "metadata": {},
     "output_type": "execute_result"
    }
   ],
   "source": [
    "duckdb.sql('SELECT * from scaled_df')"
   ]
  },
  {
   "cell_type": "code",
   "execution_count": 185,
   "metadata": {},
   "outputs": [],
   "source": [
    "scaled_df.to_csv('20241218.csv')"
   ]
  },
  {
   "cell_type": "code",
   "execution_count": null,
   "metadata": {},
   "outputs": [],
   "source": []
  }
 ],
 "metadata": {
  "kernelspec": {
   "display_name": "QUANTHUB",
   "language": "python",
   "name": "python3"
  },
  "language_info": {
   "codemirror_mode": {
    "name": "ipython",
    "version": 3
   },
   "file_extension": ".py",
   "mimetype": "text/x-python",
   "name": "python",
   "nbconvert_exporter": "python",
   "pygments_lexer": "ipython3",
   "version": "3.11.0"
  }
 },
 "nbformat": 4,
 "nbformat_minor": 2
}

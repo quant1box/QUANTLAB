{
 "cells": [
  {
   "cell_type": "code",
   "execution_count": 1,
   "metadata": {},
   "outputs": [
    {
     "name": "stdout",
     "output_type": "stream",
     "text": [
      "No module named 'wtpy'\n"
     ]
    }
   ],
   "source": [
    "# import QUANTAXIS as QA\n",
    "\n",
    "import sys\n",
    "sys.path.append('..')\n",
    "import json\n",
    "import pandas as pd\n",
    "import polars as pl\n",
    "from QHData.query import Query"
   ]
  },
  {
   "cell_type": "code",
   "execution_count": 2,
   "metadata": {},
   "outputs": [],
   "source": [
    "\n",
    "# 获取全市场主力连续合约\n",
    "q = Query()\n",
    "futures_list = q.fetch_future_list().select(pl.col('code')).to_series().to_list()\n",
    "\n",
    "#  获取分钟数据\n",
    "future_data = q.fetch_future_data(codes=futures_list,start_date='2023-01-01',end_date='2025-03-01',frequency='5min').sort(['datetime','code'])\n",
    "\n"
   ]
  },
  {
   "cell_type": "code",
   "execution_count": 3,
   "metadata": {},
   "outputs": [
    {
     "data": {
      "text/html": [
       "<div><style>\n",
       ".dataframe > thead > tr,\n",
       ".dataframe > tbody > tr {\n",
       "  text-align: right;\n",
       "  white-space: pre-wrap;\n",
       "}\n",
       "</style>\n",
       "<small>shape: (2_061_497, 7)</small><table border=\"1\" class=\"dataframe\"><thead><tr><th>datetime</th><th>code</th><th>open</th><th>high</th><th>low</th><th>close</th><th>volume</th></tr><tr><td>datetime[μs]</td><td>str</td><td>f64</td><td>f64</td><td>f64</td><td>f64</td><td>i64</td></tr></thead><tbody><tr><td>2022-03-09 13:35:00</td><td>&quot;BBL8&quot;</td><td>410.6</td><td>410.6</td><td>410.6</td><td>410.6</td><td>0</td></tr><tr><td>2022-03-09 13:40:00</td><td>&quot;BBL8&quot;</td><td>410.6</td><td>410.6</td><td>410.6</td><td>410.6</td><td>0</td></tr><tr><td>2022-03-09 13:45:00</td><td>&quot;BBL8&quot;</td><td>410.6</td><td>410.6</td><td>410.6</td><td>410.6</td><td>0</td></tr><tr><td>2022-03-09 13:50:00</td><td>&quot;BBL8&quot;</td><td>410.6</td><td>410.6</td><td>410.6</td><td>410.6</td><td>0</td></tr><tr><td>2022-03-09 13:55:00</td><td>&quot;BBL8&quot;</td><td>410.6</td><td>410.6</td><td>410.6</td><td>410.6</td><td>0</td></tr><tr><td>&hellip;</td><td>&hellip;</td><td>&hellip;</td><td>&hellip;</td><td>&hellip;</td><td>&hellip;</td><td>&hellip;</td></tr><tr><td>2025-02-28 15:10:00</td><td>&quot;TSL8&quot;</td><td>102.6</td><td>102.61</td><td>102.58</td><td>102.59</td><td>1523</td></tr><tr><td>2025-02-28 15:15:00</td><td>&quot;TFL8&quot;</td><td>105.82</td><td>105.83</td><td>105.81</td><td>105.83</td><td>670</td></tr><tr><td>2025-02-28 15:15:00</td><td>&quot;TL8&quot;</td><td>108.22</td><td>108.25</td><td>108.21</td><td>108.25</td><td>1946</td></tr><tr><td>2025-02-28 15:15:00</td><td>&quot;TLL8&quot;</td><td>117.98</td><td>118.05</td><td>117.98</td><td>118.01</td><td>1514</td></tr><tr><td>2025-02-28 15:15:00</td><td>&quot;TSL8&quot;</td><td>102.59</td><td>102.6</td><td>102.59</td><td>102.6</td><td>383</td></tr></tbody></table></div>"
      ],
      "text/plain": [
       "shape: (2_061_497, 7)\n",
       "┌─────────────────────┬──────┬────────┬────────┬────────┬────────┬────────┐\n",
       "│ datetime            ┆ code ┆ open   ┆ high   ┆ low    ┆ close  ┆ volume │\n",
       "│ ---                 ┆ ---  ┆ ---    ┆ ---    ┆ ---    ┆ ---    ┆ ---    │\n",
       "│ datetime[μs]        ┆ str  ┆ f64    ┆ f64    ┆ f64    ┆ f64    ┆ i64    │\n",
       "╞═════════════════════╪══════╪════════╪════════╪════════╪════════╪════════╡\n",
       "│ 2022-03-09 13:35:00 ┆ BBL8 ┆ 410.6  ┆ 410.6  ┆ 410.6  ┆ 410.6  ┆ 0      │\n",
       "│ 2022-03-09 13:40:00 ┆ BBL8 ┆ 410.6  ┆ 410.6  ┆ 410.6  ┆ 410.6  ┆ 0      │\n",
       "│ 2022-03-09 13:45:00 ┆ BBL8 ┆ 410.6  ┆ 410.6  ┆ 410.6  ┆ 410.6  ┆ 0      │\n",
       "│ 2022-03-09 13:50:00 ┆ BBL8 ┆ 410.6  ┆ 410.6  ┆ 410.6  ┆ 410.6  ┆ 0      │\n",
       "│ 2022-03-09 13:55:00 ┆ BBL8 ┆ 410.6  ┆ 410.6  ┆ 410.6  ┆ 410.6  ┆ 0      │\n",
       "│ …                   ┆ …    ┆ …      ┆ …      ┆ …      ┆ …      ┆ …      │\n",
       "│ 2025-02-28 15:10:00 ┆ TSL8 ┆ 102.6  ┆ 102.61 ┆ 102.58 ┆ 102.59 ┆ 1523   │\n",
       "│ 2025-02-28 15:15:00 ┆ TFL8 ┆ 105.82 ┆ 105.83 ┆ 105.81 ┆ 105.83 ┆ 670    │\n",
       "│ 2025-02-28 15:15:00 ┆ TL8  ┆ 108.22 ┆ 108.25 ┆ 108.21 ┆ 108.25 ┆ 1946   │\n",
       "│ 2025-02-28 15:15:00 ┆ TLL8 ┆ 117.98 ┆ 118.05 ┆ 117.98 ┆ 118.01 ┆ 1514   │\n",
       "│ 2025-02-28 15:15:00 ┆ TSL8 ┆ 102.59 ┆ 102.6  ┆ 102.59 ┆ 102.6  ┆ 383    │\n",
       "└─────────────────────┴──────┴────────┴────────┴────────┴────────┴────────┘"
      ]
     },
     "execution_count": 3,
     "metadata": {},
     "output_type": "execute_result"
    }
   ],
   "source": [
    "future_data"
   ]
  },
  {
   "cell_type": "code",
   "execution_count": 4,
   "metadata": {},
   "outputs": [
    {
     "name": "stdout",
     "output_type": "stream",
     "text": [
      "┌────────────┬──────────┬─────────┬────────┬────────┬────────┬────────┬────────┐\n",
      "│    date    │   time   │  code   │  open  │  high  │  low   │ close  │ volume │\n",
      "│  varchar   │   time   │ varchar │ double │ double │ double │ double │ int64  │\n",
      "├────────────┼──────────┼─────────┼────────┼────────┼────────┼────────┼────────┤\n",
      "│ 2023/05/31 │ 10:40:00 │ A       │ 4984.0 │ 4987.0 │ 4983.0 │ 4984.0 │    831 │\n",
      "│ 2023/05/31 │ 10:45:00 │ A       │ 4983.0 │ 4990.0 │ 4983.0 │ 4983.0 │    732 │\n",
      "│ 2023/05/31 │ 10:50:00 │ A       │ 4984.0 │ 4987.0 │ 4983.0 │ 4985.0 │    593 │\n",
      "│ 2023/05/31 │ 10:55:00 │ A       │ 4986.0 │ 4991.0 │ 4984.0 │ 4984.0 │    641 │\n",
      "│ 2023/05/31 │ 11:00:00 │ A       │ 4984.0 │ 4986.0 │ 4980.0 │ 4982.0 │    965 │\n",
      "│ 2023/05/31 │ 11:05:00 │ A       │ 4981.0 │ 4986.0 │ 4981.0 │ 4983.0 │    689 │\n",
      "│ 2023/05/31 │ 11:10:00 │ A       │ 4983.0 │ 4984.0 │ 4979.0 │ 4981.0 │    785 │\n",
      "│ 2023/05/31 │ 11:15:00 │ A       │ 4981.0 │ 4982.0 │ 4979.0 │ 4980.0 │    396 │\n",
      "│ 2023/05/31 │ 11:20:00 │ A       │ 4979.0 │ 4986.0 │ 4978.0 │ 4983.0 │   1330 │\n",
      "│ 2023/05/31 │ 11:25:00 │ A       │ 4982.0 │ 4989.0 │ 4981.0 │ 4986.0 │    963 │\n",
      "│     ·      │    ·     │ ·       │    ·   │    ·   │    ·   │    ·   │     ·  │\n",
      "│     ·      │    ·     │ ·       │    ·   │    ·   │    ·   │    ·   │     ·  │\n",
      "│     ·      │    ·     │ ·       │    ·   │    ·   │    ·   │    ·   │     ·  │\n",
      "│ 2024/01/03 │ 09:25:00 │ A       │ 4874.0 │ 4875.0 │ 4869.0 │ 4871.0 │    989 │\n",
      "│ 2024/01/03 │ 09:30:00 │ A       │ 4871.0 │ 4871.0 │ 4864.0 │ 4865.0 │   2522 │\n",
      "│ 2024/01/03 │ 09:35:00 │ A       │ 4865.0 │ 4866.0 │ 4858.0 │ 4860.0 │   4198 │\n",
      "│ 2024/01/03 │ 09:40:00 │ A       │ 4860.0 │ 4862.0 │ 4858.0 │ 4862.0 │   1379 │\n",
      "│ 2024/01/03 │ 09:45:00 │ A       │ 4861.0 │ 4862.0 │ 4858.0 │ 4862.0 │   1267 │\n",
      "│ 2024/01/03 │ 09:50:00 │ A       │ 4861.0 │ 4865.0 │ 4859.0 │ 4864.0 │   1816 │\n",
      "│ 2024/01/03 │ 09:55:00 │ A       │ 4864.0 │ 4867.0 │ 4862.0 │ 4862.0 │   1183 │\n",
      "│ 2024/01/03 │ 10:00:00 │ A       │ 4862.0 │ 4862.0 │ 4858.0 │ 4860.0 │   1796 │\n",
      "│ 2024/01/03 │ 10:05:00 │ A       │ 4860.0 │ 4862.0 │ 4857.0 │ 4858.0 │   2207 │\n",
      "│ 2024/01/03 │ 10:10:00 │ A       │ 4858.0 │ 4859.0 │ 4856.0 │ 4859.0 │   1903 │\n",
      "├────────────┴──────────┴─────────┴────────┴────────┴────────┴────────┴────────┤\n",
      "│ ? rows (>9999 rows, 20 shown)                                      8 columns │\n",
      "└──────────────────────────────────────────────────────────────────────────────┘\n",
      "\n"
     ]
    }
   ],
   "source": [
    "import polars as pl\n",
    "import duckdb\n",
    "\n",
    "def process_future_data(df: pl.DataFrame) -> pl.DataFrame:\n",
    "    \"\"\"使用Polars处理期货数据\n",
    "\n",
    "    Args:\n",
    "        df: 输入的期货数据DataFrame\n",
    "\n",
    "    Returns:\n",
    "        处理后的DataFrame\n",
    "    \"\"\"\n",
    "    # 确保输入是Polars DataFrame\n",
    "    if not isinstance(df, pl.DataFrame):\n",
    "        df = pl.from_pandas(df.reset_index())\n",
    "\n",
    "    # 处理code列，移除'L8'后缀\n",
    "    df = (df.with_columns(\n",
    "        [   pl.col('code').str.replace('L8', '').alias('code'),\n",
    "            pl.col('datetime').cast(str).str.split(' ').list.get(0).str.to_date('%Y-%m-%d').dt.strftime('%Y/%m/%d').alias('date'),\n",
    "            pl.col('datetime').cast(str).str.split(' ').list.get(1).str.split('.').list.get(0).str.to_time('%H:%M:%S').alias('time')\n",
    "        ])\n",
    "        .select(\n",
    "            [\n",
    "                'date',\n",
    "                'time',\n",
    "                'code',\n",
    "                pl.col(['open', 'high', 'low', 'close']).round(2),\n",
    "                pl.col('volume').round(2)\n",
    "            ])\n",
    "        .sort(['code', 'date', 'time'])\n",
    "    )\n",
    "    \n",
    "    return df\n",
    "\n",
    "processed = process_future_data(df=future_data)\n",
    "duckdb.sql('select * from processed').show()"
   ]
  },
  {
   "cell_type": "code",
   "execution_count": 5,
   "metadata": {},
   "outputs": [
    {
     "name": "stdout",
     "output_type": "stream",
     "text": [
      "文件夹 'storage/csv' 已存在。\n",
      "DCE.b.HOT_m5.csv\n",
      "CZCE.AP.HOT_m5.csv\n",
      "CZCE.SR.HOT_m5.csv\n",
      "DCE.i.HOT_m5.csv\n",
      "SHFE.rb.HOT_m5.csv\n",
      "DCE.m.HOT_m5.csv\n",
      "CZCE.SF.HOT_m5.csv\n",
      "CFFEX.TL.HOT_m5.csv\n",
      "SHFE.cu.HOT_m5.csv\n",
      "DCE.rr.HOT_m5.csv\n",
      "DCE.p.HOT_m5.csv\n",
      "CZCE.CJ.HOT_m5.csv\n",
      "CZCE.SM.HOT_m5.csv\n",
      "SHFE.fu.HOT_m5.csv\n",
      "DCE.l.HOT_m5.csv\n",
      "SHFE.wr.HOT_m5.csv\n",
      "DCE.y.HOT_m5.csv\n",
      "CZCE.PX.HOT_m5.csv\n",
      "DCE.cs.HOT_m5.csv\n",
      "CFFEX.TF.HOT_m5.csv\n",
      "CZCE.OI.HOT_m5.csv\n",
      "INE.bc.HOT_m5.csv\n",
      "CZCE.CY.HOT_m5.csv\n",
      "CZCE.SA.HOT_m5.csv\n",
      "CFFEX.IM.HOT_m5.csv\n",
      "DCE.bb.HOT_m5.csv\n",
      "DCE.a.HOT_m5.csv\n",
      "SHFE.br.HOT_m5.csv\n",
      "CZCE.TA.HOT_m5.csv\n",
      "CZCE.PF.HOT_m5.csv\n",
      "DCE.pp.HOT_m5.csv\n",
      "DCE.fb.HOT_m5.csv\n",
      "DCE.eg.HOT_m5.csv\n",
      "DCE.lh.HOT_m5.csv\n",
      "DCE.j.HOT_m5.csv\n",
      "SHFE.sn.HOT_m5.csv\n",
      "SHFE.ss.HOT_m5.csv\n",
      "SHFE.sp.HOT_m5.csv\n",
      "INE.sc.HOT_m5.csv\n",
      "INE.ec.HOT_m5.csv\n",
      "DCE.c.HOT_m5.csv\n",
      "SHFE.ru.HOT_m5.csv\n",
      "CZCE.RS.HOT_m5.csv\n",
      "DCE.pg.HOT_m5.csv\n",
      "CFFEX.IC.HOT_m5.csv\n",
      "SHFE.zn.HOT_m5.csv\n",
      "CZCE.RM.HOT_m5.csv\n",
      "CZCE.UR.HOT_m5.csv\n",
      "SHFE.pb.HOT_m5.csv\n",
      "SHFE.bu.HOT_m5.csv\n",
      "SHFE.ag.HOT_m5.csv\n",
      "DCE.v.HOT_m5.csv\n",
      "DCE.eb.HOT_m5.csv\n",
      "CFFEX.IH.HOT_m5.csv\n",
      "DCE.jd.HOT_m5.csv\n",
      "SHFE.ni.HOT_m5.csv\n",
      "CZCE.CF.HOT_m5.csv\n",
      "INE.lu.HOT_m5.csv\n",
      "DCE.jm.HOT_m5.csv\n",
      "CFFEX.T.HOT_m5.csv\n",
      "CZCE.PK.HOT_m5.csv\n",
      "INE.nr.HOT_m5.csv\n",
      "CZCE.FG.HOT_m5.csv\n",
      "CFFEX.TS.HOT_m5.csv\n",
      "SHFE.ao.HOT_m5.csv\n",
      "SHFE.au.HOT_m5.csv\n",
      "SHFE.hc.HOT_m5.csv\n",
      "SHFE.al.HOT_m5.csv\n",
      "CFFEX.IF.HOT_m5.csv\n",
      "CZCE.SH.HOT_m5.csv\n",
      "CZCE.MA.HOT_m5.csv\n"
     ]
    }
   ],
   "source": [
    "import os\n",
    "\n",
    "# 生层hot合约\n",
    "\n",
    "with open('/Users/chiang/QUANTLAB/commodities.json','r',encoding='utf-8') as f:\n",
    "    data = json.load(f)\n",
    "\n",
    "hots = ['.'.join([k,m,'HOT']) for k,v in data.items() for m in v.keys()]\n",
    "\n",
    "# 定义文件夹路径\n",
    "folder_path = 'storage/csv'\n",
    "\n",
    "# 检查文件夹是否存在\n",
    "if not os.path.exists(folder_path):\n",
    "    # 如果文件夹不存在，则创建文件夹\n",
    "    os.makedirs(folder_path)\n",
    "    print(f\"文件夹 '{folder_path}' 已创建。\")\n",
    "else:\n",
    "    print(f\"文件夹 '{folder_path}' 已存在。\")\n",
    "\n",
    "\n",
    "for name,group in processed.group_by('code'):\n",
    "\n",
    "    for m in hots:\n",
    "        if name[0] in [x.upper() for x in m.split('.')]:\n",
    "\n",
    "            file_name = f'{m}_m5.csv'\n",
    "\n",
    "            df = group.drop('code')\n",
    "            df.write_csv('/'.join([folder_path,file_name]))\n",
    "            print(file_name)\n",
    "            "
   ]
  },
  {
   "cell_type": "code",
   "execution_count": 17,
   "metadata": {},
   "outputs": [],
   "source": [
    "import pandas as pd \n",
    "import random\n",
    "import numpy as np\n",
    "\n",
    "\n",
    "\n",
    "dt_randint = {'rb':random.sample(range(1, 1000), 100),\n",
    "              'ru':random.sample(range(1, 1000), 100),\n",
    "              'cu':random.sample(range(1, 1000), 100)\n",
    "              }\n",
    "\n",
    "df = pd.DataFrame(dt_randint)\n"
   ]
  },
  {
   "cell_type": "code",
   "execution_count": 23,
   "metadata": {},
   "outputs": [
    {
     "data": {
      "text/plain": [
       "rb    0.092437\n",
       "ru    0.089707\n",
       "cu    0.062572\n",
       "dtype: float64"
      ]
     },
     "execution_count": 23,
     "metadata": {},
     "output_type": "execute_result"
    }
   ],
   "source": [
    "(np.log(df/df.shift(1)).dropna().std()/np.sqrt(252))"
   ]
  },
  {
   "cell_type": "code",
   "execution_count": null,
   "metadata": {},
   "outputs": [],
   "source": []
  }
 ],
 "metadata": {
  "kernelspec": {
   "display_name": "QUANTHUB",
   "language": "python",
   "name": "python3"
  },
  "language_info": {
   "codemirror_mode": {
    "name": "ipython",
    "version": 3
   },
   "file_extension": ".py",
   "mimetype": "text/x-python",
   "name": "python",
   "nbconvert_exporter": "python",
   "pygments_lexer": "ipython3",
   "version": "3.11.0"
  }
 },
 "nbformat": 4,
 "nbformat_minor": 2
}

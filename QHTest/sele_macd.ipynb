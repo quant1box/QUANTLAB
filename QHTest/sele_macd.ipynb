{
 "cells": [
  {
   "cell_type": "code",
   "execution_count": 1,
   "metadata": {},
   "outputs": [
    {
     "name": "stdout",
     "output_type": "stream",
     "text": [
      "No module named 'wtpy'\n",
      "Error importing QUANTAXIS module: No module named 'QUANTAXIS'\n"
     ]
    },
    {
     "name": "stderr",
     "output_type": "stream",
     "text": [
      "/opt/homebrew/Caskroom/miniconda/base/envs/QUANTHUB/lib/python3.11/site-packages/tqdm/auto.py:21: TqdmWarning: IProgress not found. Please update jupyter and ipywidgets. See https://ipywidgets.readthedocs.io/en/stable/user_install.html\n",
      "  from .autonotebook import tqdm as notebook_tqdm\n"
     ]
    }
   ],
   "source": [
    "import sys\n",
    "sys.path.append('..')\n",
    "\n",
    "import warnings\n",
    "\n",
    "import numpy as np\n",
    "import pandas as pd \n",
    "\n",
    "\n",
    "from QHData.query import query\n",
    "from QHMlflow.secuntial import Sequential\n",
    "from QHFactor.transformer import Load_X_y\n",
    "from QHMlflow.features_selector import LGBMFeatureSelector\n",
    "from QHData.data_load import DataLoader,CodesLoader\n",
    "from sklearn.model_selection import train_test_split\n",
    "\n",
    "from QHMlflow.estimator import LGBMRollingClassifier\n",
    "\n",
    "warnings.filterwarnings('ignore')"
   ]
  },
  {
   "cell_type": "code",
   "execution_count": 2,
   "metadata": {},
   "outputs": [
    {
     "name": "stderr",
     "output_type": "stream",
     "text": [
      "[2025-01-04 19:18:01 - INFO] Model name: STK_UPLIMIT300_1D\n",
      "[2025-01-04 19:18:01 - INFO] Training started at 2025-01-04 19:18:01\n"
     ]
    }
   ],
   "source": [
    "# 1 查询数据\n",
    "\n",
    "seq = Sequential(name='STK_UPLIMIT300_1D')  # 初始化交易框架\n",
    "\n",
    "q = query()\n",
    "# --------------------------------------------------------------------------------------\n",
    "code_loader = CodesLoader()\n",
    "code_hs300 = code_loader.load_stk_codes('hs300.json')\n",
    "code_zz500 = code_loader.load_stk_codes('zz500.json')      # 中证500成分股\n",
    "code_qql = code_loader.load_stk_codes('qql.json')         # 敲敲乐报价股票\n",
    "\n",
    "df_stocks = q.fetch_stock_list()    # 获取全市场股票信息\n",
    "filter_codes = df_stocks[-df_stocks.name.str.startswith(('*',\"ST\"))]                    # 过滤掉*ST/ST的股票\n",
    "codes_20cm = filter_codes[filter_codes.code.str.match(r'300|301|688|689')].code.tolist()      # 涨停板为20cm的股票\n",
    "codes_10cm = filter_codes[-filter_codes.code.str.match(r'300|301|688|689')].code.tolist()     # 涨停板为10cm的股票\n",
    "# --------------------------------------------------------------------------------------\n",
    "\n",
    "data_loader = DataLoader(start_date='2024-01-01',end_date='2024-12-02',freq='daily')\n",
    "stk_data = data_loader.load_stock(codes=code_hs300)\n",
    "\n",
    "stk_data = stk_data.groupby(level=1).filter(lambda x:len(x) > 252)  # 过滤掉上市小于1年的股票\n",
    "\n",
    "# # 2、计算因子\n",
    "# factors = seq.calculate_factors(stk_data.fillna(0), window=60)    # 计算因子\n",
    "# returns = stk_data.close.unstack().pct_change(periods=1).shift(-1).stack() # 预测未来一天的涨跌"
   ]
  },
  {
   "cell_type": "code",
   "execution_count": 3,
   "metadata": {},
   "outputs": [
    {
     "name": "stdout",
     "output_type": "stream",
     "text": [
      "Selected stocks based on MACD criteria: []\n"
     ]
    }
   ],
   "source": [
    "import talib\n",
    "\n",
    "def select_stocks_macd(stk_data):\n",
    "    # 计算MACD指标\n",
    "    macd, signal, hist = talib.MACD(stk_data['close'], fastperiod=12, slowperiod=26, signalperiod=9)\n",
    "\n",
    "    # 获取所有股票的MACD值和信号值\n",
    "    macd_values = macd[stk_data.index.get_level_values(1)]\n",
    "    signal_values = signal[stk_data.index.get_level_values(1)]\n",
    "\n",
    "    # 计算条件\n",
    "    crossover = (macd_values.shift(1) < 0) & (macd_values > 0) & (signal_values > 0)\n",
    "    dif_cross = (macd_values.shift(1) < signal_values.shift(1)) & (macd_values > signal_values)\n",
    "\n",
    "    # 选出符合条件的股票\n",
    "    selected_stocks = stk_data.index.get_level_values(1)[crossover & dif_cross].unique().tolist()\n",
    "\n",
    "    return selected_stocks\n",
    "\n",
    "# 使用选股函数\n",
    "selected_codes = select_stocks_macd(stk_data)\n",
    "print(\"Selected stocks based on MACD criteria:\", selected_codes)\n"
   ]
  },
  {
   "cell_type": "code",
   "execution_count": null,
   "metadata": {},
   "outputs": [],
   "source": []
  }
 ],
 "metadata": {
  "kernelspec": {
   "display_name": "QUANTHUB",
   "language": "python",
   "name": "python3"
  },
  "language_info": {
   "codemirror_mode": {
    "name": "ipython",
    "version": 3
   },
   "file_extension": ".py",
   "mimetype": "text/x-python",
   "name": "python",
   "nbconvert_exporter": "python",
   "pygments_lexer": "ipython3",
   "version": "3.11.0"
  }
 },
 "nbformat": 4,
 "nbformat_minor": 2
}
